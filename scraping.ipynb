{
 "metadata": {
  "language_info": {
   "codemirror_mode": {
    "name": "ipython",
    "version": 3
   },
   "file_extension": ".py",
   "mimetype": "text/x-python",
   "name": "python",
   "nbconvert_exporter": "python",
   "pygments_lexer": "ipython3",
   "version": "3.8.3"
  },
  "orig_nbformat": 4,
  "kernelspec": {
   "name": "python3",
   "display_name": "Python 3.8.3 64-bit ('base': conda)"
  },
  "interpreter": {
   "hash": "cd7c5fdac04fcaca0d7c23c2ef06544ca235a639ba1e35ce6a49b38f7470300e"
  }
 },
 "nbformat": 4,
 "nbformat_minor": 2,
 "cells": [
  {
   "cell_type": "code",
   "execution_count": 1,
   "metadata": {},
   "outputs": [],
   "source": [
    "import os\n",
    "from bs4 import BeautifulSoup as bs\n",
    "import requests \n",
    "from requests import Session\n",
    "import log_in\n",
    "import pandas as pd\n"
   ]
  },
  {
   "cell_type": "code",
   "execution_count": 2,
   "metadata": {},
   "outputs": [],
   "source": [
    "url = 'http://leagues2.amsterdambilliards.com/team9ball/abc/login.php?redirect_url=/team9ball/abc/index.php'\n",
    "secure_url = 'http://leagues2.amsterdambilliards.com/team9ball/abc/index.php?foo=bar'"
   ]
  },
  {
   "cell_type": "code",
   "execution_count": 3,
   "metadata": {},
   "outputs": [],
   "source": [
    "# Create the payload\n",
    "payload = {\n",
    "    'user': log_in.username,\n",
    "    'pwd': log_in.password,\n",
    "    'action': 'LOGIN'}\n",
    "\n",
    "# Using requests, make sure you can log on to the site by posting the paylod to the proper fields.\n",
    "# with requests.session() as s:\n",
    "#     response = s.post(url, data = payload)\n",
    "#     r = s.get(secure_url)\n",
    "#     soup = bs(r.content, 'html.parser')\n",
    "#     print(soup)\n",
    "\n"
   ]
  },
  {
   "cell_type": "code",
   "execution_count": 71,
   "metadata": {},
   "outputs": [
    {
     "output_type": "stream",
     "name": "stdout",
     "text": [
      "['Thursday', ' May 20th']\n['8:30pm']\n['COVID Killas']\n['Download']\n['Thursday', ' June 3rd']\n['8:30pm']\n['Idiots']\n['Download']\n['Thursday', ' June 10th']\n['8:30pm']\n['You Rack Discipline']\n['Download']\n['Thursday', ' June 17th']\n['8:30pm']\n['Hot Pockets']\n['Download']\n['Thursday', ' June 24th']\n['8:30pm']\n['Chalking Funny']\n['Download']\n['Thursday', ' July 1st']\n['8:30pm']\n['Inside English']\n['Download']\n['Thursday', ' July 8th']\n['6:00pm']\n['Foreign Policy']\n['Download']\n['Thursday', ' July 15th']\n['6:00pm']\n['I Rack', ' I Ran']\n['Download']\n['Thursday', ' July 22nd']\n['8:30pm']\n['Cobra Kai']\n['Download']\n['Thursday', ' July 29th']\n['8:30pm']\n['Monkey Steals the Peach!']\n['Download']\n['Thursday', ' August 5th']\n['8:30pm']\n[\"Murnak's Team\"]\n['Download']\n['Thursday', ' August 12th']\n['8:30pm']\n['The Northern Lights']\n['Download']\n"
     ]
    }
   ],
   "source": [
    "#Scrape season schedule\n",
    "team_scouting_report_url = \"http://leagues2.amsterdambilliards.com/team9ball/abc/team_scouting_report.php?season_id=198&team_id=304\"\n",
    "\n",
    "with requests.session() as s:\n",
    "    response = s.post(url, data = payload)\n",
    "    r = s.get(team_scouting_report_url)\n",
    "    soup = bs(r.content, 'html.parser')\n",
    "    results = soup.find_all('table', width = '100%')\n",
    "    \n",
    "    for result in results:\n",
    "        all_info = result.find_all('td', class_ = 'level_2')\n",
    "    \n",
    "    for x in range(len(all_info)):\n",
    "        info = all_info[x].text\n",
    "        info = \" \".join(info.split())\n",
    "        info = info.split(sep=',')\n",
    "        \n",
    "        print(info)"
   ]
  },
  {
   "cell_type": "code",
   "execution_count": null,
   "metadata": {},
   "outputs": [],
   "source": []
  }
 ]
}