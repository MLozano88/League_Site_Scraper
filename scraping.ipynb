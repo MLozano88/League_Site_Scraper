{
 "metadata": {
  "language_info": {
   "codemirror_mode": {
    "name": "ipython",
    "version": 3
   },
   "file_extension": ".py",
   "mimetype": "text/x-python",
   "name": "python",
   "nbconvert_exporter": "python",
   "pygments_lexer": "ipython3",
   "version": "3.8.3"
  },
  "orig_nbformat": 4,
  "kernelspec": {
   "name": "python3",
   "display_name": "Python 3.8.3 64-bit ('base': conda)"
  },
  "interpreter": {
   "hash": "cd7c5fdac04fcaca0d7c23c2ef06544ca235a639ba1e35ce6a49b38f7470300e"
  }
 },
 "nbformat": 4,
 "nbformat_minor": 2,
 "cells": [
  {
   "cell_type": "code",
   "execution_count": 11,
   "metadata": {},
   "outputs": [],
   "source": [
    "import os\n",
    "from bs4 import BeautifulSoup as bs\n",
    "import requests \n",
    "from requests import Session\n",
    "import log_in\n"
   ]
  },
  {
   "cell_type": "code",
   "execution_count": 12,
   "metadata": {},
   "outputs": [],
   "source": [
    "url = 'http://leagues2.amsterdambilliards.com/team9ball/abc/login.php?redirect_url=/team9ball/abc/index.php'\n",
    "secure_url = 'http://leagues2.amsterdambilliards.com/team9ball/abc/index.php?foo=bar'"
   ]
  },
  {
   "cell_type": "code",
   "execution_count": 24,
   "metadata": {},
   "outputs": [
    {
     "output_type": "stream",
     "name": "stdout",
     "text": [
      "<html>\n<head>\n<link href=\"/leagues.css\" rel=\"stylesheet\" type=\"text/css\"/> <title>Welcome to Amsterdam Billiards League Information</title>\n<style type=\"text/css\">\n\t\tH5 {page-break-before: always}\n\t</style>\n</head>\n<body>\n<center>\n<a href=\"/team9ball/abc/index.php?foo=bar\">Home</a>\n\t\t     \n\t\t<a href=\"/team9ball/abc/schedule.php?foo=bar\">Match Schedules</a>\n\t\t     \n\t\t<a href=\"/team9ball/abc/team_standings.php?foo=bar\">Team Standings</a>\n\t\t     \n\t\t<a href=\"/team9ball/abc/individual_standings.php?foo=bar\">Individual Standings</a>\n\t\t     \n\t\t<a href=\"/team9ball/abc/changepwd.php?foo=bar\">Update My Account</a>\n\t\t     \n\t\t<a href=\"/rules/Team_9_Rules_2020.pdf\">League Rules</a>\n\t\t     \n\t\t<a href=\"/team9ball/abc/handicap_sheet.php?foo=bar\">Handicap Chart</a>\n\t\t     \n\t\t<a href=\"/team9ball/abc/Captains_Handout_2019.pdf\">Captains Meeting Handout</a>\n</center>\n<hr/>\n<!-- InstanceBegin template=\"/Templates/leagues_2.dwt\" codeOutsideHTMLIsLocked=\"false\" -->\n<table align=\"center\" class=\"maintable\">\n<tr>\n<td bgcolor=\"#996600\" colspan=\"3\" height=\"1\"></td>\n</tr>\n<tr class=\"noprint\">\n<td width=\"25%\"><img height=\"77\" src=\"../../logo.gif\" width=\"361\"/></td>\n<td align=\"right\" colspan=\"2\"><p> &lt; <a href=\"http://amsterdambilliards.com\">Back to Amsterdam home<br/>\n</a>&lt; <a href=\"../../index.php\">Back to Leagues home</a></p></td>\n</tr>\n<tr>\n<td bgcolor=\"#996600\" colspan=\"3\" height=\"1\"></td>\n</tr>\n<tr>\n<td align=\"center\" colspan=\"3\"><!-- InstanceBeginEditable name=\"content\" -->\n<table class=\"tableteir1\">\n<tr>\n<td><h3>Welcome to Amsterdam Billiards League Information</h3></td>\n</tr>\n<tr>\n<td><div class=\"center\"> Welcome Back to Team 9 Ball<br/><hr/>\nDuring the Summer session, we will only have matches on Thursday evenings.<br/>\nWith only 6 Teams in the late session then as the season progresses matches will have to span both time slots.<br/><hr/>\nThe Playoffs will be in August culminating on August 30.<br/><hr/>\nAll league players, come in and enjoy free pool on Fridays from 6-9 pm.<br/>  Let the manager on duty know you're part of Team 9-Ball. <br/><hr/>\nPlease make sure to do the following:<br/><br/>\nClick on the \"Update My Account\" link button and make sure all of your information is accurate and up to date.<br/><br/>\nAlways read the body of any e-mail sent,<br/>the message in the body may contain more important information than the subject line<br/>and it may also contradict the subject line.<br/><hr/>\n<br>\n<center>Hello, Mario Lozano. Your team is <a href=\"/team9ball/abc/team_scouting_report.php?season_id=198&amp;team_id=304\">Tiger Abuse</a>.<br/>Click a link above to get started.</center> </br></div>\n</td>\n</tr>\n</table>\n<!-- InstanceEndEditable --></td>\n</tr>\n<tr>\n<td colspan=\"3\"> </td>\n</tr>\n</table>\n</body>\n</html>\n<!-- InstanceEnd -->\n\n"
     ]
    }
   ],
   "source": [
    "# Create the payload\n",
    "payload = {\n",
    "    'user': log_in.username,\n",
    "    'pwd': log_in.password,\n",
    "    'action': 'LOGIN'}\n",
    "   \n",
    "with requests.session() as s:\n",
    "    response = s.post(url, data = payload)\n",
    "    r = s.get(secure_url)\n",
    "    soup = bs(r.content, 'html.parser')\n",
    "    print(soup)\n",
    "\n"
   ]
  },
  {
   "cell_type": "code",
   "execution_count": null,
   "metadata": {},
   "outputs": [],
   "source": []
  }
 ]
}